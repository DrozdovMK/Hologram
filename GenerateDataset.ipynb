{
 "cells": [
  {
   "cell_type": "code",
   "execution_count": 1,
   "id": "999855e9",
   "metadata": {},
   "outputs": [],
   "source": [
    "import numpy as np\n",
    "from Frenel_Holo import FullReconstruct\n",
    "import cv2\n",
    "import os   \n",
    "import qrcode\n",
    "import matplotlib.pyplot as plt"
   ]
  },
  {
   "cell_type": "code",
   "execution_count": 98,
   "metadata": {},
   "outputs": [],
   "source": [
    "def generate_dataset(write_path_qr, write_path_holo, write_path_freconstr, n_samples_train, n_samples_val,\n",
    "                     N = 96, box_size = 2,  ps = 5.5e-6, wavelength = 532e-9):\n",
    "    z_0 = N * ps * ps / wavelength\n",
    "    registr_distantion = 6\n",
    "    # data_size = np.random.randint(1,50)\n",
    "    data_size = 29 # for 5 version it's max value\n",
    "    for n in range(n_samples_train):\n",
    "\n",
    "        data = np.random.randint(10, size = data_size)\n",
    "        qr = qrcode.QRCode(error_correction = qrcode.constants.ERROR_CORRECT_H, box_size = box_size, border = 0)\n",
    "        qr.add_data(data)\n",
    "        qr.make(fit = True)\n",
    "        image = qr.make_image(fill_color = 'black', back_color = 'white')\n",
    "        image = 255*np.array(image, dtype=int)\n",
    "        amplitude = np.sqrt(np.array(image))\n",
    "        phase = np.random.uniform(0, 2*np.pi, amplitude.shape)\n",
    "        object_field = np.zeros((N, N), dtype = complex)\n",
    "        object_field[0: amplitude.shape[0], 0: amplitude.shape[0]] = amplitude * np.exp(1j * phase)\n",
    "        \n",
    "        name = str(n) + '.png'\n",
    "        object_field, hologram, rec_image = FullReconstruct(object_field, registr_distantion*z_0, plotting= False)\n",
    "        cv2.imwrite(write_path_qr + 'train/' + name, object_field)\n",
    "        cv2.imwrite(write_path_holo + 'train/' + name, hologram)\n",
    "        cv2.imwrite(write_path_freconstr + 'train/' + name, rec_image)\n",
    "        \n",
    "    for n in range(n_samples_val):\n",
    "    \n",
    "        data = np.random.randint(10, size = data_size)\n",
    "        qr = qrcode.QRCode(error_correction = qrcode.constants.ERROR_CORRECT_H, box_size = box_size, border = 0)\n",
    "        qr.add_data(data)\n",
    "        qr.make(fit = True)\n",
    "        image = qr.make_image(fill_color = 'black', back_color = 'white')\n",
    "        image = 255*np.array(image, dtype=int)\n",
    "        amplitude = np.sqrt(np.array(image))\n",
    "        phase = np.random.uniform(0, 2*np.pi, amplitude.shape)\n",
    "        object_field = np.zeros((N, N), dtype = complex)\n",
    "        object_field[0: amplitude.shape[0], 0: amplitude.shape[0]] = amplitude * np.exp(1j * phase)\n",
    "        name = str(n) + '.png'\n",
    "        object_field, hologram, rec_image = FullReconstruct(object_field, registr_distantion*z_0, plotting= False)\n",
    "        cv2.imwrite(write_path_qr + 'val/' + name, object_field)\n",
    "        cv2.imwrite(write_path_holo + 'val/' + name, hologram)\n",
    "        cv2.imwrite(write_path_freconstr+ 'val/' + name, rec_image)\n",
    "        "
   ]
  },
  {
   "cell_type": "code",
   "execution_count": 99,
   "metadata": {},
   "outputs": [],
   "source": [
    "WRITEPATH_QR = '../QR_v5/qr_seq/'\n",
    "WRITEPATH_HOLO = '../QR_v5/holo_seq/'\n",
    "WRITEPATH_FREN = '../QR_v5/fren_seq/'"
   ]
  },
  {
   "cell_type": "code",
   "execution_count": 164,
   "metadata": {},
   "outputs": [],
   "source": [
    "n_samples_train = 50000\n",
    "n_samples_val = 5000\n",
    "\n",
    "N = 64 #Размер объектного поля\n",
    "box_size = 1 #Отсчетов картинки на один пиксель qr-кода\n",
    "generate_dataset(WRITEPATH_QR, WRITEPATH_HOLO, WRITEPATH_FREN, n_samples_train, n_samples_val, N, box_size)\n"
   ]
  },
  {
   "cell_type": "code",
   "execution_count": 52,
   "metadata": {},
   "outputs": [
    {
     "data": {
      "text/plain": [
       "5"
      ]
     },
     "execution_count": 52,
     "metadata": {},
     "output_type": "execute_result"
    },
    {
     "data": {
      "image/png": "[encoded data removed]",
      "text/plain": [
       "<Figure size 640x480 with 1 Axes>"
      ]
     },
     "metadata": {},
     "output_type": "display_data"
    }
   ],
   "source": [
    "# Ячейка для экспериментов\n",
    "data = np.random.randint(10, size = 29)\n",
    "qr = qrcode.QRCode(error_correction = qrcode.constants.ERROR_CORRECT_H, box_size = 1, border = 0)\n",
    "qr.add_data(data)\n",
    "ps = 5.5e-6\n",
    "wavelength = 532e-9\n",
    "N = 64\n",
    "z_0 = N * ps * ps / wavelength\n",
    "registr_distantion = 6\n",
    "image = qr.make_image(fill_color = 'black', back_color = 'white')\n",
    "plt.imshow(image)\n",
    "qr.version\n",
    "amplitude = np.sqrt(np.array(image))\n",
    "phase = np.random.uniform(0, 2*np.pi, amplitude.shape)\n",
    "object_field = np.zeros((N, N), dtype = complex)\n",
    "object_field[0: amplitude.shape[0], 0: amplitude.shape[0]] = amplitude * np.exp(1j * phase)\n",
    "object_field, hologram, rec_image = FullReconstruct(object_field, registr_distantion*z_0, plotting= False)\n",
    "plt.imshow(rec_image)\n",
    "qr.version"
   ]
  },
  {
   "cell_type": "code",
   "execution_count": 14,
   "id": "14c7a29b",
   "metadata": {},
   "outputs": [
    {
     "data": {
      "text/plain": [
       "array([  0.,   1.,   2.,   3.,   4.,   5.,   6.,   7.,   8.,   9.,  10.,\n",
       "        11.,  12.,  13.,  14.,  15.,  16.,  17.,  18.,  19.,  20.,  22.,\n",
       "        23.,  24.,  25.,  26.,  29.,  30.,  31.,  32.,  34.,  35.,  36.,\n",
       "        37.,  39.,  40.,  41.,  42.,  43.,  44.,  46.,  47.,  48.,  49.,\n",
       "        50.,  51.,  52.,  53.,  56.,  57.,  58.,  59.,  61.,  62.,  63.,\n",
       "        66.,  67.,  70.,  73.,  75.,  76.,  77.,  78.,  80.,  82.,  83.,\n",
       "        84.,  86.,  93.,  94.,  95.,  96.,  99., 102., 103., 104., 106.,\n",
       "       107., 110., 114., 121., 122., 127., 131., 134., 137., 141., 144.,\n",
       "       147., 152., 153., 156., 169., 171., 172., 174., 177., 182., 184.,\n",
       "       188., 198., 204., 208., 215., 216., 228., 255.])"
      ]
     },
     "execution_count": 14,
     "metadata": {},
     "output_type": "execute_result"
    }
   ],
   "source": [
    "np.unique(rec_image)"
   ]
  },
  {
   "cell_type": "code",
   "execution_count": 7,
   "id": "51ddb9ae",
   "metadata": {},
   "outputs": [
    {
     "data": {
      "text/plain": [
       "array([[ 34.,  25., 104., ...,  26.,  66.,  55.],\n",
       "       [ 14.,   1.,  24., ...,  29.,  62.,  16.],\n",
       "       [ 58.,  35.,  28., ..., 103.,  20.,  45.],\n",
       "       ...,\n",
       "       [ 16.,  24., 109., ...,  52.,  20.,  62.],\n",
       "       [  9.,   8.,  36., ...,  23.,  53.,  59.],\n",
       "       [ 28.,   1., 124., ...,   5.,   8.,   3.]])"
      ]
     },
     "execution_count": 7,
     "metadata": {},
     "output_type": "execute_result"
    }
   ],
   "source": [
    "hologram"
   ]
  }
 ],
 "metadata": {
  "kernelspec": {
   "display_name": "Python 3 (ipykernel)",
   "language": "python",
   "name": "python3"
  },
  "language_info": {
   "codemirror_mode": {
    "name": "ipython",
    "version": 3
   },
   "file_extension": ".py",
   "mimetype": "text/x-python",
   "name": "python",
   "nbconvert_exporter": "python",
   "pygments_lexer": "ipython3",
   "version": "3.11.5"
  }
 },
 "nbformat": 4,
 "nbformat_minor": 5
}
